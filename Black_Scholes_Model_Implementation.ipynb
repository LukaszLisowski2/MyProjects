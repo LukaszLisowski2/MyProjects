{
  "nbformat": 4,
  "nbformat_minor": 0,
  "metadata": {
    "colab": {
      "name": "Black Scholes Model Implementation",
      "provenance": [],
      "authorship_tag": "ABX9TyP8z3nLmosaXjdbzn0ut+2c",
      "include_colab_link": true
    },
    "kernelspec": {
      "name": "python3",
      "display_name": "Python 3"
    }
  },
  "cells": [
    {
      "cell_type": "markdown",
      "metadata": {
        "id": "view-in-github",
        "colab_type": "text"
      },
      "source": [
        "<a href=\"https://colab.research.google.com/github/LukaszLisowski2/Python-Finance-Projects/blob/main/Black_Scholes_Model_Implementation.ipynb\" target=\"_parent\"><img src=\"https://colab.research.google.com/assets/colab-badge.svg\" alt=\"Open In Colab\"/></a>"
      ]
    },
    {
      "cell_type": "code",
      "metadata": {
        "colab": {
          "base_uri": "https://localhost:8080/"
        },
        "id": "HCpnDbD4PTq5",
        "outputId": "53a18d7c-6df6-4b55-e5ef-caedc72e32f0"
      },
      "source": [
        "import numpy as np\r\n",
        "from scipy.stats import norm\r\n",
        "\r\n",
        "S = 100\r\n",
        "K = 120\r\n",
        "r = 0.01\r\n",
        "T = 60/365\r\n",
        "sigma = 0.30\r\n",
        "\r\n",
        "def BlackScholesModel(S, K, r, T, sigma, type =\"C\"):\r\n",
        "  d1 = ((np.log(S/K) + (r + sigma**2/2) *T) / sigma * np.sqrt(T))\r\n",
        "  d2 = d1 - sigma * np.sqrt(T)\r\n",
        "\r\n",
        "  try:\r\n",
        "    if type == \"C\":\r\n",
        "      price = (S * norm.cdf(d1, 0, 1) - norm.cdf(d2, 0, 1) * K * np.exp(-r * T))\r\n",
        "    elif type == \"P\":\r\n",
        "      price = K * np.exp(-r *T) * norm.cdf(-d1, 0,1) - S * norm.cdf(-d2, 0, 1)\r\n",
        "    return price\r\n",
        "  except:\r\n",
        "    print (\"There are not enough parameters\")\r\n",
        "  \r\n",
        "\r\n",
        "print(\"The option Price is: \" ,round(BlackScholesModel(S, K, r, T, sigma, type = \"P\"),2)) #Changing (type = \"P\" or \"C\" when identyfing calls or puts)"
      ],
      "execution_count": null,
      "outputs": [
        {
          "output_type": "stream",
          "text": [
            "The option Price is:  7.09\n"
          ],
          "name": "stdout"
        }
      ]
    },
    {
      "cell_type": "code",
      "metadata": {
        "id": "Lne1B3a6SYWl"
      },
      "source": [
        ""
      ],
      "execution_count": null,
      "outputs": []
    }
  ]
}