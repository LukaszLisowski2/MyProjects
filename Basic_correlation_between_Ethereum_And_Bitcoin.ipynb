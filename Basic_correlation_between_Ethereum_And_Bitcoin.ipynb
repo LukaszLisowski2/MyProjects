{
  "nbformat": 4,
  "nbformat_minor": 0,
  "metadata": {
    "colab": {
      "name": "Basic correlation between Etherum And Bitcoin",
      "provenance": [],
      "toc_visible": true,
      "authorship_tag": "ABX9TyMx2Vb3/Wf9wiR0tkmsbIiM",
      "include_colab_link": true
    },
    "kernelspec": {
      "name": "python3",
      "display_name": "Python 3"
    }
  },
  "cells": [
    {
      "cell_type": "markdown",
      "metadata": {
        "id": "view-in-github",
        "colab_type": "text"
      },
      "source": [
        "<a href=\"https://colab.research.google.com/github/LukaszLisowski2/Python-Finance-Projects/blob/main/Basic_correlation_between_Ethereum_And_Bitcoin.ipynb\" target=\"_parent\"><img src=\"https://colab.research.google.com/assets/colab-badge.svg\" alt=\"Open In Colab\"/></a>"
      ]
    },
    {
      "cell_type": "markdown",
      "metadata": {
        "id": "rHlJ-xduLv-O"
      },
      "source": [
        ""
      ]
    },
    {
      "cell_type": "code",
      "metadata": {
        "colab": {
          "base_uri": "https://localhost:8080/"
        },
        "id": "cNSOtwdVLwVN",
        "outputId": "37d00e73-698f-472d-cf21-03ef3025dc45"
      },
      "source": [
        "import pandas as pd\r\n",
        "import numpy as np \r\n",
        "\r\n",
        "\r\n",
        "btc = pd.read_csv(\"BTC-USD.csv\")\r\n",
        "eth = pd.read_csv(\"ETH-USD.csv\")\r\n",
        "\r\n",
        "df = pd.DataFrame(btc)\r\n",
        "df2 = pd.DataFrame(eth)\r\n",
        "\r\n",
        "Newdf = df[['Close']].dropna()\r\n",
        "Newdf2 = df2[['Close']].dropna()\r\n",
        "\r\n",
        "Newdf.pct_change()\r\n",
        "Newdf2.pct_change()\r\n",
        "\r\n",
        "CorrelationDataFrame = Newdf.corrwith(Newdf2)\r\n",
        "\r\n",
        "\r\n",
        "correlation = 0.806006\r\n",
        "\r\n",
        "print(CorrelationDataFrame)\r\n",
        "\r\n",
        "\r\n",
        "\r\n"
      ],
      "execution_count": null,
      "outputs": [
        {
          "output_type": "stream",
          "text": [
            "Close    0.806006\n",
            "dtype: float64\n"
          ],
          "name": "stdout"
        }
      ]
    },
    {
      "cell_type": "markdown",
      "metadata": {
        "id": "u2HdULtVH3ax"
      },
      "source": [
        "# New Section"
      ]
    }
  ]
}