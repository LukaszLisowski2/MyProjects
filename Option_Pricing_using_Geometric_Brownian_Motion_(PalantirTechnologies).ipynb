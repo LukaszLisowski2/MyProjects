{
  "nbformat": 4,
  "nbformat_minor": 0,
  "metadata": {
    "colab": {
      "name": "Option Pricing using Geometric Brownian Motion (PalantirTechnologies)",
      "provenance": [],
      "authorship_tag": "ABX9TyMPQWn8vtclTooWn4wPKV98"
    },
    "kernelspec": {
      "name": "python3",
      "display_name": "Python 3"
    }
  },
  "cells": [
    {
      "cell_type": "code",
      "metadata": {
        "id": "7ZB3g_aStjIE",
        "colab": {
          "base_uri": "https://localhost:8080/"
        },
        "outputId": "b5082a31-8e94-4ffe-e48a-531728104494"
      },
      "source": [
        "import numpy as np\r\n",
        "\r\n",
        "\r\n",
        "K = 41\r\n",
        "S = 36.19\r\n",
        "T = 25/365\r\n",
        "r = 0.01\r\n",
        "sigma = 1.4\r\n",
        "NumberSimulations = 1000\r\n",
        "NumberSteps = 62\r\n",
        "\r\n",
        "dt = T / NumberSteps #We want to get daily prices\r\n",
        "\r\n",
        "d = ((r - sigma**2)/2)*dt\r\n",
        "a = sigma*np.sqrt(dt)\r\n",
        "x = np.random.normal(0,1,(NumberSimulations,NumberSteps))\r\n",
        "\r\n",
        "SMovement = np.zeros((NumberSimulations,NumberSteps))\r\n",
        "SMovement[:,0] += S\r\n",
        "\r\n",
        "for i in range (1, NumberSteps):\r\n",
        "  SMovement[:,i]=SMovement[:,i-1] * np.exp(d + a*x[:,i])   #Geometric brownian motion formula\r\n",
        "\r\n",
        "call = SMovement[:,-1] - K\r\n",
        "\r\n",
        "for i in range(len(call)):\r\n",
        "     if call[i] < 0 :\r\n",
        "         call[i] = 0\r\n",
        "     else:\r\n",
        "       call[i]=call[i]\r\n",
        "\r\n",
        "put = K - SMovement[:,-1]\r\n",
        "\r\n",
        "for i in range(len(put)):\r\n",
        "     if put[i] < 0 :\r\n",
        "         put[i] = 0\r\n",
        "     else:\r\n",
        "       put[i]=put[i]\r\n",
        "\r\n",
        "call_price = np.mean(call)\r\n",
        "put_price = np.mean(put)\r\n",
        "#Continous Discounting\r\n",
        "contin_call= call_price * np.exp(-r*T)\r\n",
        "contin_put = put_price * np.exp(-r*T)\r\n",
        "\r\n",
        "print(contin_call)\r\n",
        "print(contin_put)\r\n",
        "\r\n",
        "\r\n",
        "\r\n"
      ],
      "execution_count": 140,
      "outputs": [
        {
          "output_type": "stream",
          "text": [
            "3.622894490160109\n",
            "8.364244420767657\n"
          ],
          "name": "stdout"
        }
      ]
    },
    {
      "cell_type": "code",
      "metadata": {
        "id": "sAu8W1S1jhIR"
      },
      "source": [
        ""
      ],
      "execution_count": null,
      "outputs": []
    }
  ]
}